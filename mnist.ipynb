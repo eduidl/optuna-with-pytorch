{
 "cells": [
  {
   "cell_type": "code",
   "execution_count": 1,
   "metadata": {},
   "outputs": [],
   "source": [
    "from torch.utils.data import DataLoader\n",
    "from torchvision.datasets import MNIST\n",
    "from torchvision import transforms\n",
    "import numpy as np"
   ]
  },
  {
   "cell_type": "code",
   "execution_count": 2,
   "metadata": {},
   "outputs": [],
   "source": [
    "BATCHSIZE = 128\n",
    "\n",
    "transform = transforms.Compose(\n",
    "    [transforms.ToTensor(),\n",
    "     transforms.Normalize((0.5,), (0.5,))])\n",
    "\n",
    "train_set = MNIST(root='./data', train=True,\n",
    "                  download=True, transform=transform)\n",
    "train_loader = DataLoader(train_set, batch_size=BATCHSIZE,\n",
    "                          shuffle=True, num_workers=2)\n",
    "\n",
    "test_set = MNIST(root='./data', train=False, \n",
    "                 download=True, transform=transform)\n",
    "test_loader = DataLoader(test_set, batch_size=BATCHSIZE,\n",
    "                         shuffle=False, num_workers=2)\n",
    "\n",
    "classes = tuple(np.linspace(0, 9, 10, dtype=np.uint8))"
   ]
  },
  {
   "cell_type": "code",
   "execution_count": 3,
   "metadata": {},
   "outputs": [],
   "source": [
    "import torch\n",
    "import torch.nn as nn\n",
    "import torch.nn.functional as F\n",
    "import torch.optim as optim\n",
    "\n",
    "import optuna\n",
    "optuna.logging.disable_default_handler()\n",
    "\n",
    "from tqdm import tqdm_notebook as tqdm"
   ]
  },
  {
   "cell_type": "code",
   "execution_count": 6,
   "metadata": {},
   "outputs": [],
   "source": [
    "EPOCH = 10\n",
    "\n",
    "class Net(nn.Module):\n",
    "    def __init__(self, trial):\n",
    "        super(Net, self).__init__()\n",
    "        self.activation = get_activation(trial)\n",
    "        # self.activation = trial.suggest_categorical('activation', [F.relu, F.elu])\n",
    "        self.conv1 = nn.Conv2d(1, 10, kernel_size=5)\n",
    "        self.conv2 = nn.Conv2d(10, 20, kernel_size=5)\n",
    "        self.conv2_drop = nn.Dropout2d(p=trial.suggest_uniform(\"dropout_prob\", 0, 0.8))\n",
    "        self.fc1 = nn.Linear(320, 50)\n",
    "        self.fc2 = nn.Linear(50, 10)\n",
    "\n",
    "    def forward(self, x):\n",
    "        x = self.activation(F.max_pool2d(self.conv1(x), 2))\n",
    "        x = self.activation(F.max_pool2d(self.conv2_drop(self.conv2(x)), 2))\n",
    "        x = x.view(-1, 320)\n",
    "        x = self.activation(self.fc1(x))\n",
    "        x = F.dropout(x, training=self.training)\n",
    "        x = self.fc2(x)\n",
    "        return F.log_softmax(x, dim=1)\n",
    "\n",
    "def train(model, device, train_loader, optimizer):\n",
    "    model.train()\n",
    "    for batch_idx, (data, target) in enumerate(train_loader):\n",
    "        data, target = data.to(device), target.to(device)\n",
    "        optimizer.zero_grad()\n",
    "        output = model(data)\n",
    "        loss = F.nll_loss(output, target)\n",
    "        loss.backward()\n",
    "        optimizer.step()\n",
    "\n",
    "def test(model, device, test_loader):\n",
    "    model.eval()\n",
    "    correct = 0\n",
    "    with torch.no_grad():\n",
    "        for data, target in test_loader:\n",
    "            data, target = data.to(device), target.to(device)\n",
    "            output = model(data)\n",
    "            pred = output.max(1, keepdim=True)[1]\n",
    "            correct += pred.eq(target.view_as(pred)).sum().item()\n",
    "\n",
    "    return 1 - correct / len(test_loader.dataset)\n",
    "\n",
    "def get_optimizer(trial, model):\n",
    "    optimizer_names = ['Adam', 'MomentumSGD']\n",
    "    optimizer_name = trial.suggest_categorical('optimizer', optimizer_names)\n",
    "    weight_decay = trial.suggest_loguniform('weight_decay', 1e-10, 1e-3)\n",
    "    if optimizer_name == optimizer_names[0]: \n",
    "        adam_lr = trial.suggest_loguniform('adam_lr', 1e-5, 1e-1)\n",
    "        optimizer = optim.Adam(model.parameters(), lr=adam_lr, weight_decay=weight_decay)\n",
    "    else:\n",
    "        momentum_sgd_lr = trial.suggest_loguniform('momentum_sgd_lr', 1e-5, 1e-1)\n",
    "        optimizer = optim.SGD(model.parameters(), lr=momentum_sgd_lr,\n",
    "                              momentum=0.9, weight_decay=weight_decay)\n",
    "    return optimizer\n",
    "\n",
    "# def adam(model, trial, weight_decay):\n",
    "#     adam_lr = trial.suggest_loguniform('adam_lr', 1e-5, 1e-1)\n",
    "#     return optim.Adam(model.parameters(), lr=adam_lr, weight_decay=weight_decay)\n",
    "    \n",
    "# def momentum(model, trial, weight_decay):\n",
    "#     momentum_sgd_lr = trial.suggest_loguniform('momentum_sgd_lr', 1e-5, 1e-1)\n",
    "#     return optim.SGD(model.parameters(), lr=momentum_sgd_lr,\n",
    "#                      momentum=0.9, weight_decay=weight_decay)\n",
    "\n",
    "# def get_optimizer(trial, model):\n",
    "#     optimizer = trial.suggest_categorical('optimizer', [adam, momentum])\n",
    "#     weight_decay = trial.suggest_loguniform('weight_decay', 1e-10, 1e-3)\n",
    "#     return optimizer(model, trial, weight_decay)\n",
    "\n",
    "def get_activation(trial):\n",
    "    activation_names = ['ReLU', 'ELU']\n",
    "    activation_name = trial.suggest_categorical('activation', activation_names)\n",
    "    if activation_name == activation_names[0]:\n",
    "        activation = F.relu\n",
    "    else:\n",
    "        activation = F.elu\n",
    "    return activation\n",
    "\n",
    "def objective_wrapper(pbar):\n",
    "    def objective(trial):\n",
    "        device = \"cuda\" if torch.cuda.is_available() else \"cpu\"\n",
    "\n",
    "        model = Net(trial).to(device)\n",
    "        optimizer = get_optimizer(trial, model)\n",
    "\n",
    "        for step in range(EPOCH):\n",
    "            train(model, device, train_loader, optimizer)\n",
    "            error_rate = test(model, device, test_loader)\n",
    "\n",
    "            trial.report(error_rate, step)\n",
    "            if trial.should_prune(step):\n",
    "                pbar.update()\n",
    "                raise optuna.structs.TrialPruned()\n",
    "\n",
    "        pbar.update()\n",
    "\n",
    "        return error_rate\n",
    "    \n",
    "    return objective"
   ]
  },
  {
   "cell_type": "code",
   "execution_count": 7,
   "metadata": {
    "scrolled": false
   },
   "outputs": [
    {
     "data": {
      "application/vnd.jupyter.widget-view+json": {
       "model_id": "3a7ab94b582f47a2b36f0bb271802a13",
       "version_major": 2,
       "version_minor": 0
      },
      "text/plain": [
       "HBox(children=(IntProgress(value=0), HTML(value='')))"
      ]
     },
     "metadata": {},
     "output_type": "display_data"
    },
    {
     "name": "stdout",
     "output_type": "stream",
     "text": [
      "\n"
     ]
    }
   ],
   "source": [
    "TRIAL_SIZE = 100\n",
    "with tqdm(total=TRIAL_SIZE) as pbar:\n",
    "    study = optuna.create_study(pruner=optuna.pruners.MedianPruner())\n",
    "    study.optimize(objective_wrapper(pbar), n_trials=TRIAL_SIZE)"
   ]
  },
  {
   "cell_type": "code",
   "execution_count": 8,
   "metadata": {},
   "outputs": [
    {
     "data": {
      "text/plain": [
       "{'activation': 'ReLU',\n",
       " 'dropout_prob': 0.016005023709719846,\n",
       " 'optimizer': 'MomentumSGD',\n",
       " 'weight_decay': 0.000493215617908779,\n",
       " 'momentum_sgd_lr': 0.021578184169117495}"
      ]
     },
     "execution_count": 8,
     "metadata": {},
     "output_type": "execute_result"
    }
   ],
   "source": [
    "study.best_params"
   ]
  },
  {
   "cell_type": "code",
   "execution_count": 9,
   "metadata": {},
   "outputs": [
    {
     "data": {
      "text/plain": [
       "0.009099999999999997"
      ]
     },
     "execution_count": 9,
     "metadata": {},
     "output_type": "execute_result"
    }
   ],
   "source": [
    "study.best_value"
   ]
  },
  {
   "cell_type": "code",
   "execution_count": 10,
   "metadata": {},
   "outputs": [
    {
     "data": {
      "text/plain": [
       "FrozenTrial(trial_id=0, state=<TrialState.COMPLETE: 1>, value=0.04520000000000002, datetime_start=datetime.datetime(2018, 12, 8, 20, 22, 13, 177788), datetime_complete=datetime.datetime(2018, 12, 8, 20, 22, 37, 675901), params={'activation': 'ELU', 'dropout_prob': 0.2632755838984565, 'optimizer': 'MomentumSGD', 'weight_decay': 5.223656518310395e-10, 'momentum_sgd_lr': 0.0003597639332994071}, user_attrs={}, system_attrs={}, intermediate_values={0: 0.36760000000000004, 1: 0.15969999999999995, 2: 0.10919999999999996, 3: 0.08720000000000006, 4: 0.07340000000000002, 5: 0.06520000000000004, 6: 0.058599999999999985, 7: 0.052200000000000024, 8: 0.0494, 9: 0.04520000000000002}, params_in_internal_repr={'activation': 1, 'dropout_prob': 0.2632755838984565, 'optimizer': 1, 'weight_decay': 5.223656518310395e-10, 'momentum_sgd_lr': 0.0003597639332994071})"
      ]
     },
     "execution_count": 10,
     "metadata": {},
     "output_type": "execute_result"
    }
   ],
   "source": [
    "study.trials[0]"
   ]
  },
  {
   "cell_type": "code",
   "execution_count": 11,
   "metadata": {},
   "outputs": [],
   "source": [
    "df = study.trials_dataframe()"
   ]
  },
  {
   "cell_type": "code",
   "execution_count": 12,
   "metadata": {},
   "outputs": [
    {
     "data": {
      "text/html": [
       "<div>\n",
       "<style scoped>\n",
       "    .dataframe tbody tr th:only-of-type {\n",
       "        vertical-align: middle;\n",
       "    }\n",
       "\n",
       "    .dataframe tbody tr th {\n",
       "        vertical-align: top;\n",
       "    }\n",
       "\n",
       "    .dataframe thead tr th {\n",
       "        text-align: left;\n",
       "    }\n",
       "</style>\n",
       "<table border=\"1\" class=\"dataframe\">\n",
       "  <thead>\n",
       "    <tr>\n",
       "      <th></th>\n",
       "      <th>trial_id</th>\n",
       "      <th>state</th>\n",
       "      <th>value</th>\n",
       "      <th>datetime_start</th>\n",
       "      <th>datetime_complete</th>\n",
       "      <th colspan=\"5\" halign=\"left\">params</th>\n",
       "      <th>...</th>\n",
       "      <th colspan=\"10\" halign=\"left\">intermediate_values</th>\n",
       "    </tr>\n",
       "    <tr>\n",
       "      <th></th>\n",
       "      <th></th>\n",
       "      <th></th>\n",
       "      <th></th>\n",
       "      <th></th>\n",
       "      <th></th>\n",
       "      <th>activation</th>\n",
       "      <th>adam_lr</th>\n",
       "      <th>dropout_prob</th>\n",
       "      <th>momentum_sgd_lr</th>\n",
       "      <th>optimizer</th>\n",
       "      <th>...</th>\n",
       "      <th>0</th>\n",
       "      <th>1</th>\n",
       "      <th>2</th>\n",
       "      <th>3</th>\n",
       "      <th>4</th>\n",
       "      <th>5</th>\n",
       "      <th>6</th>\n",
       "      <th>7</th>\n",
       "      <th>8</th>\n",
       "      <th>9</th>\n",
       "    </tr>\n",
       "  </thead>\n",
       "  <tbody>\n",
       "    <tr>\n",
       "      <th>0</th>\n",
       "      <td>0</td>\n",
       "      <td>TrialState.COMPLETE</td>\n",
       "      <td>0.0452</td>\n",
       "      <td>2018-12-08 20:22:13.177788</td>\n",
       "      <td>2018-12-08 20:22:37.675901</td>\n",
       "      <td>ELU</td>\n",
       "      <td>NaN</td>\n",
       "      <td>0.263276</td>\n",
       "      <td>0.000360</td>\n",
       "      <td>MomentumSGD</td>\n",
       "      <td>...</td>\n",
       "      <td>0.3676</td>\n",
       "      <td>0.1597</td>\n",
       "      <td>0.1092</td>\n",
       "      <td>0.0872</td>\n",
       "      <td>0.0734</td>\n",
       "      <td>0.0652</td>\n",
       "      <td>0.0586</td>\n",
       "      <td>0.0522</td>\n",
       "      <td>0.0494</td>\n",
       "      <td>0.0452</td>\n",
       "    </tr>\n",
       "    <tr>\n",
       "      <th>1</th>\n",
       "      <td>1</td>\n",
       "      <td>TrialState.COMPLETE</td>\n",
       "      <td>0.0561</td>\n",
       "      <td>2018-12-08 20:22:37.676195</td>\n",
       "      <td>2018-12-08 20:23:02.276249</td>\n",
       "      <td>ReLU</td>\n",
       "      <td>NaN</td>\n",
       "      <td>0.782625</td>\n",
       "      <td>0.000890</td>\n",
       "      <td>MomentumSGD</td>\n",
       "      <td>...</td>\n",
       "      <td>0.6112</td>\n",
       "      <td>0.2229</td>\n",
       "      <td>0.1372</td>\n",
       "      <td>0.1053</td>\n",
       "      <td>0.0899</td>\n",
       "      <td>0.0787</td>\n",
       "      <td>0.0716</td>\n",
       "      <td>0.0675</td>\n",
       "      <td>0.0610</td>\n",
       "      <td>0.0561</td>\n",
       "    </tr>\n",
       "    <tr>\n",
       "      <th>2</th>\n",
       "      <td>2</td>\n",
       "      <td>TrialState.COMPLETE</td>\n",
       "      <td>0.0162</td>\n",
       "      <td>2018-12-08 20:23:02.276627</td>\n",
       "      <td>2018-12-08 20:23:27.007976</td>\n",
       "      <td>ReLU</td>\n",
       "      <td>0.005142</td>\n",
       "      <td>0.466449</td>\n",
       "      <td>NaN</td>\n",
       "      <td>Adam</td>\n",
       "      <td>...</td>\n",
       "      <td>0.0354</td>\n",
       "      <td>0.0246</td>\n",
       "      <td>0.0199</td>\n",
       "      <td>0.0177</td>\n",
       "      <td>0.0155</td>\n",
       "      <td>0.0151</td>\n",
       "      <td>0.0166</td>\n",
       "      <td>0.0134</td>\n",
       "      <td>0.0145</td>\n",
       "      <td>0.0162</td>\n",
       "    </tr>\n",
       "    <tr>\n",
       "      <th>3</th>\n",
       "      <td>3</td>\n",
       "      <td>TrialState.COMPLETE</td>\n",
       "      <td>0.9020</td>\n",
       "      <td>2018-12-08 20:23:27.008410</td>\n",
       "      <td>2018-12-08 20:23:51.700105</td>\n",
       "      <td>ReLU</td>\n",
       "      <td>0.055845</td>\n",
       "      <td>0.407266</td>\n",
       "      <td>NaN</td>\n",
       "      <td>Adam</td>\n",
       "      <td>...</td>\n",
       "      <td>0.5593</td>\n",
       "      <td>0.5537</td>\n",
       "      <td>0.5471</td>\n",
       "      <td>0.5561</td>\n",
       "      <td>0.5779</td>\n",
       "      <td>0.7098</td>\n",
       "      <td>0.5931</td>\n",
       "      <td>0.8865</td>\n",
       "      <td>0.8865</td>\n",
       "      <td>0.9020</td>\n",
       "    </tr>\n",
       "    <tr>\n",
       "      <th>4</th>\n",
       "      <td>4</td>\n",
       "      <td>TrialState.COMPLETE</td>\n",
       "      <td>0.8865</td>\n",
       "      <td>2018-12-08 20:23:51.700607</td>\n",
       "      <td>2018-12-08 20:24:16.142025</td>\n",
       "      <td>ELU</td>\n",
       "      <td>NaN</td>\n",
       "      <td>0.780593</td>\n",
       "      <td>0.070378</td>\n",
       "      <td>MomentumSGD</td>\n",
       "      <td>...</td>\n",
       "      <td>0.1265</td>\n",
       "      <td>0.4864</td>\n",
       "      <td>0.8496</td>\n",
       "      <td>0.8991</td>\n",
       "      <td>0.8972</td>\n",
       "      <td>0.9042</td>\n",
       "      <td>0.9020</td>\n",
       "      <td>0.8968</td>\n",
       "      <td>0.9108</td>\n",
       "      <td>0.8865</td>\n",
       "    </tr>\n",
       "  </tbody>\n",
       "</table>\n",
       "<p>5 rows × 21 columns</p>\n",
       "</div>"
      ],
      "text/plain": [
       "  trial_id                state   value             datetime_start  \\\n",
       "                                                                     \n",
       "0        0  TrialState.COMPLETE  0.0452 2018-12-08 20:22:13.177788   \n",
       "1        1  TrialState.COMPLETE  0.0561 2018-12-08 20:22:37.676195   \n",
       "2        2  TrialState.COMPLETE  0.0162 2018-12-08 20:23:02.276627   \n",
       "3        3  TrialState.COMPLETE  0.9020 2018-12-08 20:23:27.008410   \n",
       "4        4  TrialState.COMPLETE  0.8865 2018-12-08 20:23:51.700607   \n",
       "\n",
       "           datetime_complete     params                         \\\n",
       "                             activation   adam_lr dropout_prob   \n",
       "0 2018-12-08 20:22:37.675901        ELU       NaN     0.263276   \n",
       "1 2018-12-08 20:23:02.276249       ReLU       NaN     0.782625   \n",
       "2 2018-12-08 20:23:27.007976       ReLU  0.005142     0.466449   \n",
       "3 2018-12-08 20:23:51.700105       ReLU  0.055845     0.407266   \n",
       "4 2018-12-08 20:24:16.142025        ELU       NaN     0.780593   \n",
       "\n",
       "                                 ...   intermediate_values                  \\\n",
       "  momentum_sgd_lr    optimizer   ...                     0       1       2   \n",
       "0        0.000360  MomentumSGD   ...                0.3676  0.1597  0.1092   \n",
       "1        0.000890  MomentumSGD   ...                0.6112  0.2229  0.1372   \n",
       "2             NaN         Adam   ...                0.0354  0.0246  0.0199   \n",
       "3             NaN         Adam   ...                0.5593  0.5537  0.5471   \n",
       "4        0.070378  MomentumSGD   ...                0.1265  0.4864  0.8496   \n",
       "\n",
       "                                                           \n",
       "        3       4       5       6       7       8       9  \n",
       "0  0.0872  0.0734  0.0652  0.0586  0.0522  0.0494  0.0452  \n",
       "1  0.1053  0.0899  0.0787  0.0716  0.0675  0.0610  0.0561  \n",
       "2  0.0177  0.0155  0.0151  0.0166  0.0134  0.0145  0.0162  \n",
       "3  0.5561  0.5779  0.7098  0.5931  0.8865  0.8865  0.9020  \n",
       "4  0.8991  0.8972  0.9042  0.9020  0.8968  0.9108  0.8865  \n",
       "\n",
       "[5 rows x 21 columns]"
      ]
     },
     "execution_count": 12,
     "metadata": {},
     "output_type": "execute_result"
    }
   ],
   "source": [
    "df.head()"
   ]
  },
  {
   "cell_type": "code",
   "execution_count": 13,
   "metadata": {},
   "outputs": [],
   "source": [
    "df.to_csv('result.csv')"
   ]
  },
  {
   "cell_type": "code",
   "execution_count": null,
   "metadata": {},
   "outputs": [],
   "source": []
  }
 ],
 "metadata": {
  "kernelspec": {
   "display_name": "Python 3",
   "language": "python",
   "name": "python3"
  },
  "language_info": {
   "codemirror_mode": {
    "name": "ipython",
    "version": 3
   },
   "file_extension": ".py",
   "mimetype": "text/x-python",
   "name": "python",
   "nbconvert_exporter": "python",
   "pygments_lexer": "ipython3",
   "version": "3.6.7"
  }
 },
 "nbformat": 4,
 "nbformat_minor": 2
}
